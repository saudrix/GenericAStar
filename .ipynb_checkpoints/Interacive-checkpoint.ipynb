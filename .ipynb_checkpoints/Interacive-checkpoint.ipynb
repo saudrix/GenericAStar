{
 "cells": [
  {
   "cell_type": "markdown",
   "metadata": {},
   "source": [
    "# Interactive Generic A* demo\n",
    "\n",
    "In this Jupyter file, you'll found in the fisrt part an interactive demo of the GA* repository \n",
    "and then some empty cells layed out to help you define your first node and metric and use GA* to compute a search for your own problem."
   ]
  },
  {
   "cell_type": "markdown",
   "metadata": {},
   "source": [
    "## Imports\n",
    "\n",
    "here, you can find the import to the main parts of the GA* project. To better understand this structure your can refer to the README section _Global Architecture_.\n",
    "\n",
    "We especially find nodes and metrics used in the demo and the **ComputeAStar** method which will allow you to compute the A* search"
   ]
  },
  {
   "cell_type": "code",
   "execution_count": 3,
   "metadata": {},
   "outputs": [],
   "source": [
    "from core.AStar import ComputeAStar\n",
    "\n",
    "# importing custom nodes\n",
    "from customNodes.CityNode import CityNode\n",
    "from customNodes.TaquinNode import TaquinNode\n",
    "\n",
    "# importing custom metrics\n",
    "from customMetrics.time import ExecTimeMetric\n",
    "from customMetrics.depth import InspectDepth\n",
    "from customMetrics.wide import InspectWidth"
   ]
  },
  {
   "cell_type": "markdown",
   "metadata": {},
   "source": [
    "## Exemple: the Taquin\n",
    "\n",
    "Here is an exemple of how to use the repository with an already implemented custom node ( the *Taquin Node*). To see how to describe the problem, we watch the **TaquinNode** class. We see that it only takes an two dimensionnal array describing a 3x3 taquin problem. \n",
    "\n",
    "So we create:\n",
    "- A start node of a shuffled taquin\n",
    "- An end node containing the ordered goal to accomplish"
   ]
  },
  {
   "cell_type": "code",
   "execution_count": 5,
   "metadata": {},
   "outputs": [],
   "source": [
    "start = TaquinNode([['4','7','1'],['8','6','3'],['2','5','-']])\n",
    "end = TaquinNode([['1','2','3'],['4','5','6'],['7','8','-']])"
   ]
  },
  {
   "cell_type": "markdown",
   "metadata": {},
   "source": [
    "## Using the algorithm\n",
    "\n",
    "Now that you have setup your problem, let's test it. We can call the **ComputeAStar** method with our data."
   ]
  },
  {
   "cell_type": "code",
   "execution_count": 38,
   "metadata": {},
   "outputs": [
    {
     "name": "stdout",
     "output_type": "stream",
     "text": [
      "| Index | time |\n",
      "   0   | start counting |\n",
      "\n",
      "   129   | elps: 0.05603s |\n",
      "\n",
      "1 2 3 \n",
      "4 5 6 \n",
      "7 8 - \n",
      "\n",
      "1 2 3 \n",
      "4 5 - \n",
      "7 8 6 \n",
      "\n",
      "1 2 3 \n",
      "4 - 5 \n",
      "7 8 6 \n",
      "\n",
      "1 - 3 \n",
      "4 2 5 \n",
      "7 8 6 \n",
      "\n",
      "- 1 3 \n",
      "4 2 5 \n",
      "7 8 6 \n",
      "\n",
      "4 1 3 \n",
      "- 2 5 \n",
      "7 8 6 \n",
      "\n",
      "4 1 3 \n",
      "7 2 5 \n",
      "- 8 6 \n",
      "\n",
      "4 1 3 \n",
      "7 2 5 \n",
      "8 - 6 \n",
      "\n",
      "4 1 3 \n",
      "7 - 5 \n",
      "8 2 6 \n",
      "\n",
      "4 1 3 \n",
      "- 7 5 \n",
      "8 2 6 \n",
      "\n",
      "4 1 3 \n",
      "8 7 5 \n",
      "- 2 6 \n",
      "\n",
      "4 1 3 \n",
      "8 7 5 \n",
      "2 - 6 \n",
      "\n",
      "4 1 3 \n",
      "8 7 5 \n",
      "2 6 - \n",
      "\n",
      "4 1 3 \n",
      "8 7 - \n",
      "2 6 5 \n",
      "\n",
      "4 1 - \n",
      "8 7 3 \n",
      "2 6 5 \n",
      "\n",
      "4 - 1 \n",
      "8 7 3 \n",
      "2 6 5 \n",
      "\n",
      "4 7 1 \n",
      "8 - 3 \n",
      "2 6 5 \n",
      "\n",
      "4 7 1 \n",
      "8 6 3 \n",
      "2 - 5 \n",
      "\n",
      "4 7 1 \n",
      "8 6 3 \n",
      "2 5 - \n",
      "\n",
      "\n"
     ]
    }
   ],
   "source": [
    "ComputeAStar(start, end, False, ExecTimeMetric(\"time\"))"
   ]
  },
  {
   "cell_type": "markdown",
   "metadata": {},
   "source": [
    "Here, we give the method four parameters. The start and end node we created. A boolean (*False*) for the verbose parameter stating that we don't want extra displays of our metric. And then we give a **Metric()** object here, **ExecTimeMetric(\"time\")** that we call time. It's a basic metric allowing us to compute the time used to compute the A* search in our problem.\n",
    "\n",
    "As an output, we get two thing, the metrics table giving us the relevant metrics outputs of our search loop and the path found by our search (here, all the consecutive move on our taquin board used to solve our problem)."
   ]
  },
  {
   "cell_type": "markdown",
   "metadata": {},
   "source": [
    "## Designing a problem\n",
    "\n",
    "Now that you know how to use the basic GA* solution, here is a template of hat to do in order to implement your own problem:"
   ]
  },
  {
   "cell_type": "markdown",
   "metadata": {},
   "source": [
    "### Step 1 - Creating a custom Node\n",
    "To create a custom node, we need to create a class inheriting from **GenericNode** and override some basic function"
   ]
  },
  {
   "cell_type": "code",
   "execution_count": 39,
   "metadata": {},
   "outputs": [],
   "source": [
    "from core.GenericNode import GenericNode"
   ]
  },
  {
   "cell_type": "code",
   "execution_count": 23,
   "metadata": {},
   "outputs": [],
   "source": [
    "class YourNode(GenericNode):\n",
    "\n",
    "    def __init__(self, parent = None):\n",
    "        \"\"\"\n",
    "        In the init method, you can add any number of parameters you need do describe your node data\n",
    "        \"\"\"\n",
    "        GenericNode.__init__(self, parent)\n",
    "\n",
    "    # A custom representation to display our taquin board\n",
    "    def __repr__(self):\n",
    "        # Here you have to define a representation for YourNode\n",
    "        return super().__repr__()\n",
    "        raise NotImplementedError(\"You need to implement this method\")\n",
    "\n",
    "    def __eq__(self, other:GenericNode) -> bool:\n",
    "        # In order for the GA* to work properly you must define how to compare two nodes together\n",
    "        raise NotImplementedError(\"You need to implement this method\")\n",
    "\n",
    "    \"\"\"\n",
    "    This methods must implement a way to travel your graph of custom nodes\n",
    "    \"\"\"\n",
    "    def GetNeighbors(self) -> [GenericNode]:\n",
    "        raise NotImplementedError(\"You need to implement this method\")\n",
    "        \n",
    "    \"\"\"\n",
    "    This method can compute the distance between two nodes of your graph\n",
    "    \"\"\"\n",
    "    def Dist(self,node) -> float:\n",
    "        raise NotImplementedError(\"You need to implement this method\")\n",
    "\n",
    "    \"\"\"\n",
    "    In the SetHCost function, you need to implement the heuristic for your problem\n",
    "    \"\"\"\n",
    "    def SetHCost(self, target:GenericNode) -> None:\n",
    "        # You must asign h before the end of this scope in order for the GA* to worl properly\n",
    "        self.h = 0\n",
    "        raise NotImplementedError(\"You need to implement this method\")\n"
   ]
  },
  {
   "cell_type": "markdown",
   "metadata": {},
   "source": [
    "Now that your node is define, we need to create a start and an end node and fed them to the GA* method:"
   ]
  },
  {
   "cell_type": "code",
   "execution_count": null,
   "metadata": {},
   "outputs": [],
   "source": [
    "yourStart = YourNode(\"\"\"Some params\"\"\")\n",
    "yourEnd = YourNode(\"\"\"Some different params\"\"\")\n",
    "\n",
    "ComputeAStar(yourStart, yourEnd, False, ExecTimeMetric(\"time\"))"
   ]
  },
  {
   "cell_type": "markdown",
   "metadata": {},
   "source": [
    "### Step 2 - Create a custom metric (Additionnal)\n",
    "Now that your problem is being computed, maybe you want to know a little bit more about what's happening under the hood. That's why the GA* allows you to create custom metric and computes them at runtime.\n",
    "\n",
    "To create our custom metric, we need to inherit a class from the Metric class."
   ]
  },
  {
   "cell_type": "code",
   "execution_count": 32,
   "metadata": {},
   "outputs": [],
   "source": [
    "from core.Metrics import Metric"
   ]
  },
  {
   "cell_type": "markdown",
   "metadata": {},
   "source": [
    "Defining a metric is even simple than creating a node! You only need to inherit from Metric and construct a Metric object givin' it the desired name. And then implement the compute method that makes all your metrics work."
   ]
  },
  {
   "cell_type": "code",
   "execution_count": 34,
   "metadata": {},
   "outputs": [],
   "source": [
    "class YourMetric(Metric):\n",
    "\n",
    "    def __init__(self, name):\n",
    "        Metric.__init__(self, name)\n",
    "\n",
    "    def compute(self):\n",
    "        \"\"\"\n",
    "        Here you need to implement your metric calculations to do this yous can access all the MEtric class parameters\n",
    "            - self.state: Is the A* loop done\n",
    "            - self.iteration: How many iteration of the A* loop have already been computed\n",
    "            -self.opened: a copy of the A* openSet\n",
    "            -self.closed: a copy of the A* closedSet\n",
    "        \n",
    "        Then you must return as a tuple the name of your metric and it's result for the given iteration\n",
    "        \"\"\"\n",
    "        return(self.name, None)"
   ]
  },
  {
   "cell_type": "markdown",
   "metadata": {},
   "source": [
    "Now that you define a custom metric, we can use it on your problem by calling:"
   ]
  },
  {
   "cell_type": "code",
   "execution_count": null,
   "metadata": {},
   "outputs": [],
   "source": [
    "ComputeAStar(yourStart, yourEnd, False, ExecTimeMetric(\"time\"), YourMetric(\"my metric\"))"
   ]
  }
 ],
 "metadata": {
  "kernelspec": {
   "display_name": "Python 3",
   "language": "python",
   "name": "python3"
  },
  "language_info": {
   "codemirror_mode": {
    "name": "ipython",
    "version": 3
   },
   "file_extension": ".py",
   "mimetype": "text/x-python",
   "name": "python",
   "nbconvert_exporter": "python",
   "pygments_lexer": "ipython3",
   "version": "3.9.0"
  }
 },
 "nbformat": 4,
 "nbformat_minor": 4
}
